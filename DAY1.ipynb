{
 "cells": [
  {
   "cell_type": "code",
   "execution_count": 1,
   "id": "b4d7865c-d984-4d81-a81f-b52d70efcf07",
   "metadata": {},
   "outputs": [
    {
     "name": "stdout",
     "output_type": "stream",
     "text": [
      "7\n"
     ]
    }
   ],
   "source": [
    "a=7\n",
    "print(a)\n"
   ]
  },
  {
   "cell_type": "code",
   "execution_count": null,
   "id": "fcaa6b19-b274-478b-b794-3be0e39ed9a4",
   "metadata": {},
   "outputs": [],
   "source": [
    "#operators\n",
    "1.arthmetic operators"
   ]
  },
  {
   "cell_type": "code",
   "execution_count": null,
   "id": "a3a766f3-3342-4478-a040-230b9af5d675",
   "metadata": {},
   "outputs": [],
   "source": [
    "+,-,*,/,%,**,//"
   ]
  },
  {
   "cell_type": "code",
   "execution_count": 3,
   "id": "cbd822f0-8de0-4c34-b51f-31e70defabc9",
   "metadata": {},
   "outputs": [
    {
     "name": "stdout",
     "output_type": "stream",
     "text": [
      "30\n"
     ]
    }
   ],
   "source": [
    "a=10\n",
    "b=20\n",
    "c=a+b\n",
    "print(c)"
   ]
  },
  {
   "cell_type": "code",
   "execution_count": null,
   "id": "37a12a0c-9ca9-49e4-bbd4-101b768a295d",
   "metadata": {},
   "outputs": [],
   "source": [
    "2. Assignment operators"
   ]
  },
  {
   "cell_type": "code",
   "execution_count": null,
   "id": "693633da-4853-4448-8d66-2e2df1fd2224",
   "metadata": {},
   "outputs": [],
   "source": [
    "=,=+,=-"
   ]
  },
  {
   "cell_type": "code",
   "execution_count": 4,
   "id": "3ad52325-426a-4ffe-b3d8-22d52ade28c1",
   "metadata": {},
   "outputs": [
    {
     "name": "stdout",
     "output_type": "stream",
     "text": [
      "10\n"
     ]
    }
   ],
   "source": [
    "x=6\n",
    "x+=4\n",
    "print(x)"
   ]
  },
  {
   "cell_type": "code",
   "execution_count": null,
   "id": "3501da3c-637e-488e-9178-998becd495f0",
   "metadata": {},
   "outputs": [],
   "source": [
    "3.comparison operators"
   ]
  },
  {
   "cell_type": "code",
   "execution_count": null,
   "id": "5c36f63c-ccab-419f-961a-33734005fb39",
   "metadata": {},
   "outputs": [],
   "source": [
    "<,>,<=,>=,==,!="
   ]
  },
  {
   "cell_type": "code",
   "execution_count": 13,
   "id": "a15ff00d-ca18-4307-b176-496705d87e6f",
   "metadata": {},
   "outputs": [
    {
     "name": "stdout",
     "output_type": "stream",
     "text": [
      "True\n",
      "True\n",
      "False\n",
      "False\n",
      "True\n",
      "False\n"
     ]
    }
   ],
   "source": [
    "x=5\n",
    "y=6\n",
    "print(x<y)\n",
    "print(x<=y)\n",
    "print(x>y)\n",
    "print(x>=y)\n",
    "print(x!=y)\n",
    "print(x==y)"
   ]
  },
  {
   "cell_type": "code",
   "execution_count": null,
   "id": "5091f944-e8ff-4224-8e86-39c9296afba4",
   "metadata": {},
   "outputs": [],
   "source": [
    "4.logical operators"
   ]
  },
  {
   "cell_type": "code",
   "execution_count": null,
   "id": "f450e192-50ec-45e3-aaf9-9ab5d38329eb",
   "metadata": {},
   "outputs": [],
   "source": [
    "And,OR,Not"
   ]
  },
  {
   "cell_type": "code",
   "execution_count": 14,
   "id": "232b8c7e-2172-4706-8759-dd2eca0064da",
   "metadata": {},
   "outputs": [
    {
     "name": "stdout",
     "output_type": "stream",
     "text": [
      "True\n",
      "True\n",
      "False\n"
     ]
    }
   ],
   "source": [
    "x = 5\n",
    "print(x>3 and x<9)\n",
    "print(x>3 or x<5)\n",
    "print(not(x>3 and x<9))\n",
    "\n"
   ]
  },
  {
   "cell_type": "code",
   "execution_count": null,
   "id": "1ec528d7-ab50-4a08-be03-532f42bd8e9c",
   "metadata": {},
   "outputs": [],
   "source": [
    "5 membership operators"
   ]
  },
  {
   "cell_type": "code",
   "execution_count": null,
   "id": "2c0ed88b-c2e3-423b-a257-53bbfedbde0e",
   "metadata": {},
   "outputs": [],
   "source": [
    "in, not in"
   ]
  },
  {
   "cell_type": "code",
   "execution_count": 16,
   "id": "1c4d2d02-3ece-481a-a0a5-f17633633527",
   "metadata": {},
   "outputs": [
    {
     "name": "stdout",
     "output_type": "stream",
     "text": [
      "white is in the list\n",
      "blue is not in list\n"
     ]
    }
   ],
   "source": [
    "colors=[\"red\",\"orange\",\"white\",\"yellow\"]\n",
    "x=\"white\"\n",
    "if x in colors:\n",
    "    print(\"white is in the list\")\n",
    "y=\"blue\"\n",
    "if y not in colors:\n",
    "    print(\"blue is not in list\")\n"
   ]
  },
  {
   "cell_type": "code",
   "execution_count": null,
   "id": "df76d76e-0619-4229-bcd2-85c30f071e30",
   "metadata": {},
   "outputs": [],
   "source": [
    "6.bitwise logical operators"
   ]
  },
  {
   "cell_type": "code",
   "execution_count": null,
   "id": "e2ec7b5b-b0d9-4fab-b588-0b3d9e8a9204",
   "metadata": {},
   "outputs": [],
   "source": [
    "&,|,!"
   ]
  },
  {
   "cell_type": "code",
   "execution_count": 17,
   "id": "a3aea67e-bb00-4037-bd87-7c70878cdf55",
   "metadata": {},
   "outputs": [
    {
     "name": "stdout",
     "output_type": "stream",
     "text": [
      "2\n",
      "7\n",
      "5\n",
      "-4\n"
     ]
    }
   ],
   "source": [
    "print(6 & 3)\n",
    "print(5 | 2)\n",
    "print(6 ^ 3)\n",
    "print(~3)"
   ]
  },
  {
   "cell_type": "code",
   "execution_count": null,
   "id": "b5cea93c-e1c9-4798-9583-522083df7daa",
   "metadata": {},
   "outputs": [],
   "source": [
    "7.identity operators"
   ]
  },
  {
   "cell_type": "code",
   "execution_count": null,
   "id": "6498d7b7-2bd0-43b7-afd3-fb0d281f8658",
   "metadata": {},
   "outputs": [],
   "source": [
    "is, is not"
   ]
  },
  {
   "cell_type": "code",
   "execution_count": 12,
   "id": "3675dbd9-68b5-4c97-ad95-3d07b1f74535",
   "metadata": {},
   "outputs": [
    {
     "name": "stdout",
     "output_type": "stream",
     "text": [
      "True\n",
      "False\n",
      "True\n"
     ]
    }
   ],
   "source": [
    "x = [\"apple\", \"banana\"]\n",
    "y = [\"apple\", \"banana\"]\n",
    "z = x\n",
    "print(x is z)\n",
    "print(x is y)\n",
    "print(x == y)"
   ]
  },
  {
   "cell_type": "code",
   "execution_count": 18,
   "id": "28623014-b70f-422d-8c85-e67e5b547d0b",
   "metadata": {},
   "outputs": [
    {
     "name": "stdin",
     "output_type": "stream",
     "text": [
      "Enter first number:  50\n",
      "Enter operator (+, -, *, /):  *\n",
      "Enter second number:  5\n"
     ]
    },
    {
     "name": "stdout",
     "output_type": "stream",
     "text": [
      "Result: 250.0\n"
     ]
    }
   ],
   "source": [
    "#simple calculator\n",
    "num1 = float(input(\"Enter first number: \"))\n",
    "operator = input(\"Enter operator (+, -, *, /): \")\n",
    "num2 = float(input(\"Enter second number: \"))\n",
    "if operator == '+':\n",
    "    result = num1 + num2\n",
    "elif operator == '-':\n",
    "    result = num1 - num2\n",
    "elif operator == '*':\n",
    "    result = num1 * num2\n",
    "elif operator == '/':\n",
    "    if num2 != 0:\n",
    "        result = num1 / num2\n",
    "    else:\n",
    "        result = \"Error! Division by zero.\"\n",
    "else:\n",
    "    result = \"Invalid operator!\"\n",
    "print(\"Result:\", result)\n"
   ]
  },
  {
   "cell_type": "code",
   "execution_count": null,
   "id": "0c8f98a3-6d46-4820-aa32-f9aa06c97bae",
   "metadata": {},
   "outputs": [],
   "source": []
  }
 ],
 "metadata": {
  "kernelspec": {
   "display_name": "anaconda-2024.02-py310",
   "language": "python",
   "name": "conda-env-anaconda-2024.02-py310-py"
  },
  "language_info": {
   "codemirror_mode": {
    "name": "ipython",
    "version": 3
   },
   "file_extension": ".py",
   "mimetype": "text/x-python",
   "name": "python",
   "nbconvert_exporter": "python",
   "pygments_lexer": "ipython3",
   "version": "3.10.14"
  }
 },
 "nbformat": 4,
 "nbformat_minor": 5
}
