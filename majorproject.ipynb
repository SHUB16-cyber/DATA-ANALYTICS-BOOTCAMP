{
 "cells": [
  {
   "cell_type": "code",
   "execution_count": 4,
   "id": "65c326f9-0262-4854-819a-718dece6778a",
   "metadata": {},
   "outputs": [
    {
     "name": "stdout",
     "output_type": "stream",
     "text": [
      "\n",
      "==== Main Menu ====\n",
      "1. Create Account\n",
      "2. ATM Login\n",
      "3. Exit\n"
     ]
    },
    {
     "name": "stdin",
     "output_type": "stream",
     "text": [
      "Enter your choice:  1\n",
      "Enter your name:  shubhi\n",
      "Choose a 4-digit PIN:  1234\n",
      "Initial deposit:  12000\n"
     ]
    },
    {
     "name": "stdout",
     "output_type": "stream",
     "text": [
      "Account created successfully!\n",
      "Your Account Number is: 2 — Please note it down.\n",
      "\n",
      "==== Main Menu ====\n",
      "1. Create Account\n",
      "2. ATM Login\n",
      "3. Exit\n"
     ]
    },
    {
     "name": "stdin",
     "output_type": "stream",
     "text": [
      "Enter your choice:  2\n"
     ]
    },
    {
     "name": "stdout",
     "output_type": "stream",
     "text": [
      "===== Welcome to Python ATM =====\n"
     ]
    },
    {
     "name": "stdin",
     "output_type": "stream",
     "text": [
      "Enter Account Number:  2\n",
      "Enter PIN:  1234\n"
     ]
    },
    {
     "name": "stdout",
     "output_type": "stream",
     "text": [
      "Welcome shubhi!\n",
      "\n",
      "--- ATM Menu ---\n",
      "1. Check Balance\n",
      "2. Deposit\n",
      "3. Withdraw\n",
      "4. Exit\n"
     ]
    },
    {
     "name": "stdin",
     "output_type": "stream",
     "text": [
      "Enter your choice:  3\n",
      "Enter amount to withdraw:  12000\n"
     ]
    },
    {
     "name": "stdout",
     "output_type": "stream",
     "text": [
      "₹12000.0 withdrawn successfully.\n",
      "\n",
      "--- ATM Menu ---\n",
      "1. Check Balance\n",
      "2. Deposit\n",
      "3. Withdraw\n",
      "4. Exit\n"
     ]
    },
    {
     "name": "stdin",
     "output_type": "stream",
     "text": [
      "Enter your choice:  4\n"
     ]
    },
    {
     "name": "stdout",
     "output_type": "stream",
     "text": [
      "Thank you for using Python ATM.\n",
      "\n",
      "==== Main Menu ====\n",
      "1. Create Account\n",
      "2. ATM Login\n",
      "3. Exit\n"
     ]
    },
    {
     "name": "stdin",
     "output_type": "stream",
     "text": [
      "Enter your choice:  3\n"
     ]
    },
    {
     "name": "stdout",
     "output_type": "stream",
     "text": [
      "Goodbye!\n"
     ]
    }
   ],
   "source": [
    "import sqlite3\n",
    "\n",
    "conn = sqlite3.connect(\"atm.db\")\n",
    "cur = conn.cursor()\n",
    "\n",
    "cur.execute('''\n",
    "CREATE TABLE IF NOT EXISTS accounts (\n",
    "    acc_no INTEGER PRIMARY KEY AUTOINCREMENT,\n",
    "    name TEXT,\n",
    "    pin TEXT,\n",
    "    balance REAL\n",
    ")\n",
    "''')\n",
    "conn.commit()\n",
    "\n",
    "def create_account(name, pin, balance):\n",
    "    cur.execute(\"INSERT INTO accounts (name, pin, balance) VALUES (?, ?, ?)\", (name, pin, balance))\n",
    "    conn.commit()\n",
    "    \n",
    "    # Get the last inserted account number\n",
    "    acc_no = cur.lastrowid\n",
    "    print(\"Account created successfully!\")\n",
    "    print(f\"Your Account Number is: {acc_no} — Please note it down.\")\n",
    "\n",
    "\n",
    "def login(acc_no, pin):\n",
    "    cur.execute(\"SELECT * FROM accounts WHERE acc_no=? AND pin=?\", (acc_no, pin))\n",
    "    user = cur.fetchone()\n",
    "    if user:\n",
    "        print(f\"Welcome {user[1]}!\")\n",
    "        return user\n",
    "    else:\n",
    "        print(\"Invalid account number or PIN.\")\n",
    "        return None\n",
    "\n",
    "def check_balance(acc_no):\n",
    "    cur.execute(\"SELECT balance FROM accounts WHERE acc_no=?\", (acc_no,))\n",
    "    result = cur.fetchone()\n",
    "    if result:\n",
    "        print(f\"Current Balance: ₹{result[0]}\")\n",
    "    else:\n",
    "        print(\"Account not found.\")\n",
    "\n",
    "def deposit(acc_no, amount):\n",
    "    cur.execute(\"UPDATE accounts SET balance = balance + ? WHERE acc_no=?\", (amount, acc_no))\n",
    "    conn.commit()\n",
    "    print(f\"₹{amount} deposited successfully.\")\n",
    "\n",
    "# Function to withdraw\n",
    "def withdraw(acc_no, amount):\n",
    "    cur.execute(\"SELECT balance FROM accounts WHERE acc_no=?\", (acc_no,))\n",
    "    current_balance = cur.fetchone()\n",
    "    if not current_balance:\n",
    "        print(\"Account not found.\")\n",
    "        return\n",
    "\n",
    "    current_balance = current_balance[0]\n",
    "    if amount > current_balance:\n",
    "        print(\"Insufficient balance!\")\n",
    "    else:\n",
    "        cur.execute(\"UPDATE accounts SET balance = balance - ? WHERE acc_no=?\", (amount, acc_no))\n",
    "        conn.commit()\n",
    "        print(f\"₹{amount} withdrawn successfully.\")\n",
    "\n",
    "# ATM Menu\n",
    "def atm_menu():\n",
    "    print(\"===== Welcome to Python ATM =====\")\n",
    "    acc_no = int(input(\"Enter Account Number: \"))\n",
    "    pin = input(\"Enter PIN: \")\n",
    "\n",
    "    user = login(acc_no, pin)\n",
    "    if not user:\n",
    "        return\n",
    "\n",
    "    while True:\n",
    "        print(\"\\n--- ATM Menu ---\")\n",
    "        print(\"1. Check Balance\")\n",
    "        print(\"2. Deposit\")\n",
    "        print(\"3. Withdraw\")\n",
    "        print(\"4. Exit\")\n",
    "\n",
    "        choice = input(\"Enter your choice: \")\n",
    "        if choice == '1':\n",
    "            check_balance(acc_no)\n",
    "        elif choice == '2':\n",
    "            amount = float(input(\"Enter amount to deposit: \"))\n",
    "            deposit(acc_no, amount)\n",
    "        elif choice == '3':\n",
    "            amount = float(input(\"Enter amount to withdraw: \"))\n",
    "            withdraw(acc_no, amount)\n",
    "        elif choice == '4':\n",
    "            print(\"Thank you for using Python ATM.\")\n",
    "            break\n",
    "        else:\n",
    "            print(\"Invalid choice. Please try again.\")\n",
    "\n",
    "\n",
    "def main():\n",
    "    while True:\n",
    "        print(\"\\n==== Main Menu ====\")\n",
    "        print(\"1. Create Account\")\n",
    "        print(\"2. ATM Login\")\n",
    "        print(\"3. Exit\")\n",
    "\n",
    "        choice = input(\"Enter your choice: \")\n",
    "        if choice == '1':\n",
    "            name = input(\"Enter your name: \")\n",
    "            pin = input(\"Choose a 4-digit PIN: \")\n",
    "            balance = float(input(\"Initial deposit: \"))\n",
    "            create_account(name, pin, balance)\n",
    "        elif choice == '2':\n",
    "            atm_menu()\n",
    "        elif choice == '3':\n",
    "            print(\"Goodbye!\")\n",
    "            break\n",
    "        else:\n",
    "            print(\"Invalid choice.\")\n",
    "\n",
    "\n",
    "if __name__ == \"__main__\":\n",
    "    main()\n",
    "    conn.close()\n"
   ]
  },
  {
   "cell_type": "code",
   "execution_count": 9,
   "id": "5b9d043b-2b34-473d-b041-7c8d2960ca77",
   "metadata": {},
   "outputs": [
    {
     "name": "stdout",
     "output_type": "stream",
     "text": [
      "\n",
      "=== Simple Billing System ===\n",
      "1. New Bill\n",
      "2. Exit\n"
     ]
    },
    {
     "name": "stdin",
     "output_type": "stream",
     "text": [
      "Choose:  1\n",
      "Enter customer name:  dg\n",
      "Item name:  milk\n",
      "Quantity:  1\n",
      "Price per item:  54\n",
      "Add more items? (y/n):  n\n"
     ]
    },
    {
     "name": "stdout",
     "output_type": "stream",
     "text": [
      "\n",
      "==== BILL ====\n",
      "Bill ID  : 0\n",
      "Customer : dg\n",
      "----------------------------\n",
      "Item        Qty  Price  Total\n",
      "----------------------------\n",
      "milk         1    ₹54.0   ₹54.0  \n",
      "----------------------------\n",
      "Total Amount: ₹54.00\n",
      "==============\n",
      "\n",
      "\n",
      "=== Simple Billing System ===\n",
      "1. New Bill\n",
      "2. Exit\n"
     ]
    },
    {
     "name": "stdin",
     "output_type": "stream",
     "text": [
      "Choose:  2\n"
     ]
    },
    {
     "name": "stdout",
     "output_type": "stream",
     "text": [
      "Goodbye!\n"
     ]
    }
   ],
   "source": [
    "import sqlite3\n",
    "conn = sqlite3.connect(\"billing.db\")\n",
    "cur = conn.cursor()\n",
    "cur.execute('''\n",
    "CREATE TABLE IF NOT EXISTS bills (\n",
    "    bill_id INTEGER PRIMARY KEY AUTOINCREMENT,\n",
    "    customer TEXT,\n",
    "    date TEXT\n",
    ")\n",
    "''')\n",
    "\n",
    "cur.execute('''\n",
    "CREATE TABLE IF NOT EXISTS items (\n",
    "    item_id INTEGER PRIMARY KEY AUTOINCREMENT,\n",
    "    bill_id INTEGER,\n",
    "    name TEXT,\n",
    "    quantity INTEGER,\n",
    "    price REAL,\n",
    "    total REAL\n",
    ")\n",
    "''')\n",
    "conn.commit()\n",
    "def create_bill():\n",
    "    customer = input(\"Enter customer name: \")\n",
    "    conn.commit()\n",
    "    bill_id = cur.lastrowid\n",
    "\n",
    "    total_amount = 0\n",
    "    while True:\n",
    "        name = input(\"Item name: \")\n",
    "        qty = int(input(\"Quantity: \"))\n",
    "        price = float(input(\"Price per item: \"))\n",
    "        total = qty * price\n",
    "        cur.execute(\"INSERT INTO items (bill_id, name, quantity, price, total) VALUES (?, ?, ?, ?, ?)\",\n",
    "                    (bill_id, name, qty, price, total))\n",
    "        conn.commit()\n",
    "        total_amount += total\n",
    "\n",
    "        more = input(\"Add more items? (y/n): \")\n",
    "        if more.lower() != 'y':\n",
    "            break\n",
    "\n",
    "    print_bill(bill_id, customer,  total_amount)\n",
    "def print_bill(bill_id, customer,  total_amount):\n",
    "    print(\"\\n==== BILL ====\")\n",
    "    print(f\"Bill ID  : {bill_id}\")\n",
    "    print(f\"Customer : {customer}\")\n",
    "    print(\"----------------------------\")\n",
    "    print(\"Item        Qty  Price  Total\")\n",
    "    print(\"----------------------------\")\n",
    "\n",
    "    cur.execute(\"SELECT name, quantity, price, total FROM items WHERE bill_id=?\", (bill_id,))\n",
    "    for name, qty, price, total in cur.fetchall():\n",
    "        print(f\"{name:<12} {qty:<4} ₹{price:<6} ₹{total:<6}\")\n",
    "\n",
    "    print(\"----------------------------\")\n",
    "    print(f\"Total Amount: ₹{total_amount:.2f}\")\n",
    "    print(\"==============\\n\")\n",
    "\n",
    "def main():\n",
    "    while True:\n",
    "        print(\"\\n=== Simple Billing System ===\")\n",
    "        print(\"1. New Bill\")\n",
    "        print(\"2. Exit\")\n",
    "        choice = input(\"Choose: \")\n",
    "\n",
    "        if choice == '1':\n",
    "            create_bill()\n",
    "        elif choice == '2':\n",
    "            print(\"Goodbye!\")\n",
    "            break\n",
    "        else:\n",
    "            print(\"Invalid choice!\")\n",
    "\n",
    "if __name__ == \"__main__\":\n",
    "    main()\n",
    "    conn.close()\n"
   ]
  },
  {
   "cell_type": "code",
   "execution_count": null,
   "id": "1d59dc97-fe3f-4bc4-a39f-b479d46036f9",
   "metadata": {},
   "outputs": [],
   "source": [
    "import sqlite3\n",
    "\n",
    "conn = sqlite3.connect(\"library.db\")\n",
    "cur = conn.cursor()\n",
    "\n",
    "cur.execute('''\n",
    "    CREATE TABLE IF NOT EXISTS books (\n",
    "        book_id INTEGER PRIMARY KEY AUTOINCREMENT,\n",
    "        title TEXT,\n",
    "        author TEXT\n",
    "    )\n",
    "''')\n",
    "\n",
    "def add_book():\n",
    "    title = input(\"Enter book title: \")\n",
    "    author = input(\"Enter book author: \")\n",
    "    cur.execute(\"INSERT INTO books (title, author) VALUES (?, ?)\", (title, author))\n",
    "    conn.commit()\n",
    "    print(\"Book added!\")\n",
    "\n",
    "def display_books():\n",
    "    cur.execute(\"SELECT * FROM books\")\n",
    "    books = cur.fetchall()\n",
    "    for book in books:\n",
    "        print(f\"Book ID: {book[0]}, Title: {book[1]}, Author: {book[2]}\")\n",
    "\n",
    "def main():\n",
    "    while True:\n",
    "        print(\"\\nLibrary Management System\")\n",
    "        print(\"1. Add Book\")\n",
    "        print(\"2. View Books\")\n",
    "        print(\"3. Exit\")\n",
    "        choice = input(\"Choose: \")\n",
    "        if choice == '1':\n",
    "            add_book()\n",
    "        elif choice == '2':\n",
    "            display_books()\n",
    "        elif choice == '3':\n",
    "            break\n",
    "\n",
    "if __name__ == \"__main__\":\n",
    "    main()\n",
    "    conn.close()"
   ]
  }
 ],
 "metadata": {
  "kernelspec": {
   "display_name": "anaconda-2024.02-py310",
   "language": "python",
   "name": "conda-env-anaconda-2024.02-py310-py"
  },
  "language_info": {
   "codemirror_mode": {
    "name": "ipython",
    "version": 3
   },
   "file_extension": ".py",
   "mimetype": "text/x-python",
   "name": "python",
   "nbconvert_exporter": "python",
   "pygments_lexer": "ipython3",
   "version": "3.10.14"
  }
 },
 "nbformat": 4,
 "nbformat_minor": 5
}
