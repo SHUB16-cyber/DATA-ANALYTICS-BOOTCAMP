{
 "cells": [
  {
   "cell_type": "code",
   "execution_count": 4,
   "id": "2068d92f-bf5a-4d58-84c1-b1763423982c",
   "metadata": {},
   "outputs": [
    {
     "name": "stdout",
     "output_type": "stream",
     "text": [
      "10 <class 'int'>\n",
      "10.0 <class 'float'>\n"
     ]
    }
   ],
   "source": [
    "#type conversion\n",
    "x=10\n",
    "print(x,type (x))\n",
    "y=float(x)#explicit\n",
    "print(y,type(y))"
   ]
  },
  {
   "cell_type": "code",
   "execution_count": 7,
   "id": "b7133f96-7eeb-4d48-be35-3d84612f71b4",
   "metadata": {},
   "outputs": [
    {
     "name": "stdout",
     "output_type": "stream",
     "text": [
      "20.5 <class 'float'>\n"
     ]
    }
   ],
   "source": [
    "x=10\n",
    "y=10.5\n",
    "result=x+y\n",
    "print(result,type(result))"
   ]
  },
  {
   "cell_type": "code",
   "execution_count": 14,
   "id": "b5977f87-b991-44ae-bb08-2760cb2526a9",
   "metadata": {},
   "outputs": [
    {
     "name": "stdin",
     "output_type": "stream",
     "text": [
      "enter the name of product Bread\n",
      "enter the price: 45\n",
      "enter the quantity: 2\n"
     ]
    },
    {
     "name": "stdout",
     "output_type": "stream",
     "text": [
      "your product is: Bread\n",
      "your bill:\n",
      "Bread 90.0\n"
     ]
    }
   ],
   "source": [
    "#code for generating bills with name\n",
    "n=input(\"enter the name of product\")\n",
    "p=float(input(\"enter the price:\"))\n",
    "q=int(input(\"enter the quantity:\"))\n",
    "bill=p*q\n",
    "print(\"your product is:\",n)\n",
    "print(\"your bill:\")\n",
    "print(n,bill)\n"
   ]
  },
  {
   "cell_type": "code",
   "execution_count": 13,
   "id": "e5b7056c-0443-4d13-ae03-4a857beb16ed",
   "metadata": {},
   "outputs": [
    {
     "name": "stdout",
     "output_type": "stream",
     "text": [
      "hello\n"
     ]
    }
   ],
   "source": [
    "a=10\n",
    "if a<15:\n",
    "    print(\"hello\")"
   ]
  },
  {
   "cell_type": "code",
   "execution_count": 16,
   "id": "52a62902-5d57-4203-8c77-a84e9dd470f3",
   "metadata": {},
   "outputs": [
    {
     "name": "stdout",
     "output_type": "stream",
     "text": [
      "bye\n"
     ]
    }
   ],
   "source": [
    "a=10\n",
    "if a>15:\n",
    "    print(\"hello\")\n",
    "else:\n",
    "    print(\"bye\")"
   ]
  },
  {
   "cell_type": "code",
   "execution_count": 17,
   "id": "d221ebed-6b15-430b-a02c-33fb7d286db4",
   "metadata": {},
   "outputs": [
    {
     "name": "stdin",
     "output_type": "stream",
     "text": [
      "enter month name: april\n"
     ]
    },
    {
     "name": "stdout",
     "output_type": "stream",
     "text": [
      "summer season\n"
     ]
    }
   ],
   "source": [
    "month=input(\"enter month name:\")\n",
    "if month in['december','january','februrary']:\n",
    "    print(\"winter season\")\n",
    "elif month in['march','april','may']:\n",
    "    print(\"summer season\")\n",
    "elif month in['june','july','august']:\n",
    "    print(\"rainy season\")\n",
    "else:\n",
    "    print(\"autumn season\")\n"
   ]
  },
  {
   "cell_type": "code",
   "execution_count": 19,
   "id": "b309e24a-138c-4c89-ad05-0814402ece5b",
   "metadata": {},
   "outputs": [
    {
     "name": "stdout",
     "output_type": "stream",
     "text": [
      "<class 'int'>\n"
     ]
    }
   ],
   "source": [
    "s=\"5\"\n",
    "b=int(s)\n",
    "print(type(b))"
   ]
  },
  {
   "cell_type": "code",
   "execution_count": 2,
   "id": "b87248a7-ec34-4972-bd2b-424feb4eddd1",
   "metadata": {},
   "outputs": [
    {
     "name": "stdin",
     "output_type": "stream",
     "text": [
      "enter the vechile type(car,bike,auto) auto\n"
     ]
    },
    {
     "name": "stdout",
     "output_type": "stream",
     "text": [
      "expiring in 12 yrs\n"
     ]
    }
   ],
   "source": [
    "vechile=input(\"enter the vechile type(car,bike,auto)\")\n",
    "if vechile==\"car\":\n",
    "    print(\"expiring in 15 yrs\")\n",
    "elif vechile==\"bike\":\n",
    "    print(\"expiring in 10 yrs\")\n",
    "elif vechile==\"auto\":\n",
    "    print(\"expiring in 12 yrs\")\n",
    "else:\n",
    "    print(\"not a vechile\")"
   ]
  },
  {
   "cell_type": "markdown",
   "id": "98f8fd4e-94f5-4749-ba9d-b09610286f29",
   "metadata": {},
   "source": [
    "# Assistant\n",
    "The error occurs because you're trying to compare the input with variables `car`, `bike`, and `auto` that haven't been defined. When comparing strings in Python, you need to use string literals (enclosed in quotes).\n",
    "\n",
    "Would you like me to provide the corrected code?"
   ]
  },
  {
   "cell_type": "code",
   "execution_count": 22,
   "id": "bedb6150-20c3-4a3b-9db0-8767675263f8",
   "metadata": {},
   "outputs": [
    {
     "name": "stdout",
     "output_type": "stream",
     "text": [
      "Multiplication Table of 2\n",
      "2 × 1 = 2\n",
      "2 × 2 = 4\n",
      "2 × 3 = 6\n",
      "2 × 4 = 8\n",
      "2 × 5 = 10\n",
      "2 × 6 = 12\n",
      "2 × 7 = 14\n",
      "2 × 8 = 16\n",
      "2 × 9 = 18\n",
      "2 × 10 = 20\n"
     ]
    }
   ],
   "source": [
    "# Simple code to print the multiplication table of 2\n",
    "print(\"Multiplication Table of 2\")\n",
    "for i in range(1, 11):\n",
    "    result = 2 * i\n",
    "    print(f\"2 × {i} = {result}\")"
   ]
  },
  {
   "cell_type": "code",
   "execution_count": null,
   "id": "5dcb4c18-6d79-44a0-82de-f6a00728d662",
   "metadata": {},
   "outputs": [],
   "source": [
    "num=int(\"enter a number\")\n",
    "if num>=0:\n",
    "    print(\"the number is negative\")\n",
    "else:\n",
    "    print(\"the number is positive\")"
   ]
  },
  {
   "cell_type": "code",
   "execution_count": null,
   "id": "f291d8d8-c68e-42f5-9284-07dbf3e1cee8",
   "metadata": {},
   "outputs": [],
   "source": [
    "age=int(input(\"enter your age:\"))\n",
    "if age>=18:\n",
    "    print(\"Eligible to vote\")\n",
    "else:\n",
    "    print(\"not eligible\")"
   ]
  },
  {
   "cell_type": "code",
   "execution_count": null,
   "id": "5c1ee6fb-07ed-4ca1-95e9-08398b7d529d",
   "metadata": {},
   "outputs": [],
   "source": [
    "num=int(input(\"enter a number\"))\n",
    "if num%2==0:\n",
    "    print(\"the number is even\")\n",
    "else:\n",
    "    print(\"the number is odd\")"
   ]
  },
  {
   "cell_type": "code",
   "execution_count": null,
   "id": "29fb950b-36aa-4fcb-900e-9518209259bf",
   "metadata": {},
   "outputs": [],
   "source": [
    "text=input(\"enter a string\")\n",
    "if len(text)>5:\n",
    "    print(\"the given string length is greater than 5\")\n",
    "else:\n",
    "    print(\"the given string length is 5 or less\")"
   ]
  },
  {
   "cell_type": "code",
   "execution_count": null,
   "id": "1f455a12-9e28-4d84-a3f2-97da63db9a99",
   "metadata": {},
   "outputs": [],
   "source": [
    "marks=int(input(\"enter your marks\"))\n",
    "if marks>=40:\n",
    "    print(\"Pass\")\n",
    "else:\n",
    "    print(\"fail\")"
   ]
  },
  {
   "cell_type": "code",
   "execution_count": 4,
   "id": "f1b12278-efd9-4f4c-98c3-c5966565dfca",
   "metadata": {},
   "outputs": [
    {
     "name": "stdin",
     "output_type": "stream",
     "text": [
      "enter your number: 5\n"
     ]
    },
    {
     "name": "stdout",
     "output_type": "stream",
     "text": [
      "positive\n"
     ]
    }
   ],
   "source": [
    "num=int(input(\"enter your number:\"))\n",
    "if num>0:\n",
    "    print(\"positive\")\n",
    "elif num<0:\n",
    "    print(\"negative\")\n",
    "else:\n",
    "    print(\"number is zero\")"
   ]
  },
  {
   "cell_type": "code",
   "execution_count": 5,
   "id": "005e4f6f-7d0f-4f6d-bb9b-a12d9a109ed9",
   "metadata": {},
   "outputs": [
    {
     "name": "stdin",
     "output_type": "stream",
     "text": [
      "enter your age: 19\n"
     ]
    },
    {
     "name": "stdout",
     "output_type": "stream",
     "text": [
      "adult\n"
     ]
    }
   ],
   "source": [
    "age=int(input(\"enter your age:\"))\n",
    "if age<13:\n",
    "    print(\"child\")\n",
    "elif age<18:\n",
    "    print(\"teen\")\n",
    "else:\n",
    "    print(\"adult\")"
   ]
  },
  {
   "cell_type": "code",
   "execution_count": 7,
   "id": "a73fc2f6-a4f2-4b24-8a90-d5e531c23c89",
   "metadata": {},
   "outputs": [
    {
     "name": "stdin",
     "output_type": "stream",
     "text": [
      "enter a number: 16\n"
     ]
    },
    {
     "name": "stdout",
     "output_type": "stream",
     "text": [
      "even\n",
      "greater than 10\n"
     ]
    }
   ],
   "source": [
    "num=int(input(\"enter a number:\"))\n",
    "if num%2==0:\n",
    "    print(\"even\")\n",
    "    if num>10:\n",
    "        print(\"greater than 10\")\n",
    "else:\n",
    "    print(\"odd\")"
   ]
  },
  {
   "cell_type": "code",
   "execution_count": 10,
   "id": "b63e29c6-18b8-44b7-921e-d69520dd1327",
   "metadata": {},
   "outputs": [
    {
     "name": "stdin",
     "output_type": "stream",
     "text": [
      "enter your marks: 45\n"
     ]
    },
    {
     "name": "stdout",
     "output_type": "stream",
     "text": [
      "Fail\n"
     ]
    }
   ],
   "source": [
    "marks=int(input(\"enter your marks:\"))\n",
    "if marks>90:\n",
    "    print(\"A\")\n",
    "elif marks>75:\n",
    "    print(\"B\")\n",
    "elif marks>60:\n",
    "    print(\"C\")\n",
    "else:\n",
    "    print(\"Fail\")"
   ]
  },
  {
   "cell_type": "code",
   "execution_count": 12,
   "id": "493582d8-7303-4147-9641-73506bcea9b1",
   "metadata": {},
   "outputs": [
    {
     "name": "stdin",
     "output_type": "stream",
     "text": [
      "enter the first element 40\n",
      "enter the second element 50\n",
      "enter the third element 45\n"
     ]
    },
    {
     "name": "stdout",
     "output_type": "stream",
     "text": [
      "greatest 50\n"
     ]
    }
   ],
   "source": [
    "a=int(input(\"enter the first element\"))\n",
    "b=int(input(\"enter the second element\"))\n",
    "c=int(input(\"enter the third element\"))\n",
    "if a>b:\n",
    "    if a>c:\n",
    "        print(\"greatest:\",a)\n",
    "    else:\n",
    "        print(\"greatest:\",c)\n",
    "else:\n",
    "    if b>c:\n",
    "        print(\"greatest\",b)\n",
    "    else:\n",
    "        print(\"greatest\",c)"
   ]
  },
  {
   "cell_type": "code",
   "execution_count": null,
   "id": "b582206f-8ff5-45e6-84b0-7f78f3f8b9d7",
   "metadata": {},
   "outputs": [],
   "source": []
  }
 ],
 "metadata": {
  "kernelspec": {
   "display_name": "anaconda-2024.02-py310",
   "language": "python",
   "name": "conda-env-anaconda-2024.02-py310-py"
  },
  "language_info": {
   "codemirror_mode": {
    "name": "ipython",
    "version": 3
   },
   "file_extension": ".py",
   "mimetype": "text/x-python",
   "name": "python",
   "nbconvert_exporter": "python",
   "pygments_lexer": "ipython3",
   "version": "3.10.14"
  }
 },
 "nbformat": 4,
 "nbformat_minor": 5
}
