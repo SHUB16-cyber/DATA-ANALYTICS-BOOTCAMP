{
 "cells": [
  {
   "cell_type": "code",
   "execution_count": 9,
   "id": "fa755b38-7289-4dab-8ccb-94758447dbba",
   "metadata": {},
   "outputs": [
    {
     "name": "stdout",
     "output_type": "stream",
     "text": [
      "None\n",
      "None\n",
      "1\n",
      "None\n",
      "4\n",
      "1\n",
      "None\n",
      "None\n",
      "[9, 8, 6, 5, 4, 3, 2, 1]\n"
     ]
    }
   ],
   "source": [
    "#list methods\n",
    "lst=[1,2,3,4,5,6,7,8]\n",
    "print(lst.append(1))\n",
    "print(lst.insert(0,9))\n",
    "print(lst.pop())\n",
    "print(lst.remove(7))\n",
    "print(lst.index(4))\n",
    "print(lst.count(5))\n",
    "print(lst.sort())\n",
    "print(lst.reverse())\n",
    "print(lst)"
   ]
  },
  {
   "cell_type": "code",
   "execution_count": 10,
   "id": "f382b883-52fe-4e44-8186-19a42c651236",
   "metadata": {},
   "outputs": [],
   "source": [
    "#extend method\n",
    "fruits = ['apple', 'banana', 'cherry']\n",
    "cars = ['Ford', 'BMW', 'Volvo']\n",
    "fruits.extend(cars)\n"
   ]
  },
  {
   "cell_type": "code",
   "execution_count": 11,
   "id": "5a54a9af-8a6d-42dd-9ff9-5010fe2a4ac9",
   "metadata": {},
   "outputs": [],
   "source": [
    "cars = ['Ford', 'BMW', 'Volvo']\n",
    "\n",
    "cars.sort()"
   ]
  },
  {
   "cell_type": "code",
   "execution_count": 8,
   "id": "b75fe42f-4c0c-4c18-a8d3-b01d95685cf5",
   "metadata": {},
   "outputs": [
    {
     "name": "stdin",
     "output_type": "stream",
     "text": [
      "Enter number 1:  5\n",
      "Enter number 2:  54\n",
      "Enter number 3:  56\n",
      "Enter number 4:  02\n",
      "Enter number 5:  20\n"
     ]
    },
    {
     "name": "stdout",
     "output_type": "stream",
     "text": [
      "Final list: [5, 54, 56, 2, 20]\n"
     ]
    }
   ],
   "source": [
    "#Create an empty list and take 5 numbers as input from the user. Append each number to the list and display the final list.\n",
    "\n",
    "numbers=[]\n",
    "\n",
    "for i in range(5):\n",
    "    num = int(input(f\"Enter number {i+1}: \"))\n",
    "    numbers.append(num)\n",
    "\n",
    "\n",
    "print(\"Final list:\", numbers)\n",
    "\n"
   ]
  },
  {
   "cell_type": "code",
   "execution_count": 2,
   "id": "46a3cac2-43d3-4038-a57c-c1d308deebcb",
   "metadata": {},
   "outputs": [
    {
     "name": "stdout",
     "output_type": "stream",
     "text": [
      "2\n"
     ]
    }
   ],
   "source": [
    "#tuple method count\n",
    "thistuple = (1, 3, 7, 8, 7, 5, 4, 6, 8, 5)\n",
    "\n",
    "x = thistuple.count(5)\n",
    "\n",
    "print(x)"
   ]
  },
  {
   "cell_type": "code",
   "execution_count": 3,
   "id": "0025989b-38d4-4048-b45e-0c587590ef68",
   "metadata": {},
   "outputs": [
    {
     "name": "stdout",
     "output_type": "stream",
     "text": [
      "3\n"
     ]
    }
   ],
   "source": [
    "#index method\n",
    "thistuple = (1, 3, 7, 8, 7, 5, 4, 6, 8, 5)\n",
    "\n",
    "x = thistuple.index(8)\n",
    "\n",
    "print(x)"
   ]
  },
  {
   "cell_type": "code",
   "execution_count": 12,
   "id": "36ee02e2-afe2-411f-8e57-21bf18ba395a",
   "metadata": {},
   "outputs": [
    {
     "name": "stdout",
     "output_type": "stream",
     "text": [
      "alpha beta gamma\n",
      "Alpha Beta Gamma\n",
      "this is ok\n"
     ]
    }
   ],
   "source": [
    "(a,b,c)= ('alpha','beta','gamma') d\n",
    "a,b,c= 'alpha','beta','gamma' \n",
    "print(a,b,c)\n",
    "a,b,c = ['Alpha','Beta','Gamma'] \n",
    "print(a,b,c)\n",
    "[a,b,c]=('this','is','ok') \n",
    "print(a,b,c)"
   ]
  },
  {
   "cell_type": "code",
   "execution_count": 1,
   "id": "9369ea28-841f-4260-822b-18c81a056740",
   "metadata": {},
   "outputs": [
    {
     "data": {
      "text/plain": [
       "0"
      ]
     },
     "execution_count": 1,
     "metadata": {},
     "output_type": "execute_result"
    }
   ],
   "source": [
    "d=tuple('hello everyone')\n",
    "d.count('a')\n"
   ]
  },
  {
   "cell_type": "code",
   "execution_count": 12,
   "id": "d7b661b2-ee5f-4037-b386-c677ba611fbd",
   "metadata": {},
   "outputs": [
    {
     "name": "stdout",
     "output_type": "stream",
     "text": [
      "{1, 2, 3, 4, 5, 6}\n",
      "{1, 2, 3}\n",
      "{1, 2}\n"
     ]
    }
   ],
   "source": [
    "\n",
    "s={1,2,3}\n",
    "y={4,5,6}\n",
    "n=s.union(y)\n",
    "print(n)\n",
    "s.update([3])\n",
    "print(s)\n",
    "s.remove(3)\n",
    "print(s)"
   ]
  },
  {
   "cell_type": "code",
   "execution_count": 23,
   "id": "8ddec6a0-7c2b-4318-ba09-874ef039856e",
   "metadata": {},
   "outputs": [
    {
     "name": "stdout",
     "output_type": "stream",
     "text": [
      "{1, 2, 3}\n",
      "set()\n"
     ]
    },
    {
     "data": {
      "text/plain": [
       "False"
      ]
     },
     "execution_count": 23,
     "metadata": {},
     "output_type": "execute_result"
    }
   ],
   "source": [
    "s={1,2,3}\n",
    "y={4,5,6}\n",
    "print(s)\n",
    "c=s.intersection(y)\n",
    "print(c)\n",
    "s.issubset(y)"
   ]
  },
  {
   "cell_type": "code",
   "execution_count": 16,
   "id": "75232bc5-c1c5-4b2f-a342-e6f63d00e60e",
   "metadata": {},
   "outputs": [
    {
     "name": "stdout",
     "output_type": "stream",
     "text": [
      "{'key1': 0, 'key2': 0, 'key3': 0}\n"
     ]
    }
   ],
   "source": [
    "x = ('key1', 'key2', 'key3')\n",
    "y = 0\n",
    "\n",
    "thisdict = dict.fromkeys(x, y)\n",
    "\n",
    "print(thisdict)"
   ]
  },
  {
   "cell_type": "code",
   "execution_count": null,
   "id": "0066e118-2814-4462-bfae-80426ec19533",
   "metadata": {},
   "outputs": [],
   "source": []
  }
 ],
 "metadata": {
  "kernelspec": {
   "display_name": "anaconda-2024.02-py310",
   "language": "python",
   "name": "conda-env-anaconda-2024.02-py310-py"
  },
  "language_info": {
   "codemirror_mode": {
    "name": "ipython",
    "version": 3
   },
   "file_extension": ".py",
   "mimetype": "text/x-python",
   "name": "python",
   "nbconvert_exporter": "python",
   "pygments_lexer": "ipython3",
   "version": "3.10.14"
  }
 },
 "nbformat": 4,
 "nbformat_minor": 5
}
