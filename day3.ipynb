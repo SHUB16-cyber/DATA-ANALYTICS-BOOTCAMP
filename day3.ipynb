{
 "cells": [
  {
   "cell_type": "code",
   "execution_count": 3,
   "id": "5fdfbe5d-3209-4ba7-b059-3e7765ee04fb",
   "metadata": {},
   "outputs": [
    {
     "name": "stdin",
     "output_type": "stream",
     "text": [
      "Type 'q' to quit: q\n"
     ]
    },
    {
     "name": "stdout",
     "output_type": "stream",
     "text": [
      "Exited loop\n"
     ]
    }
   ],
   "source": [
    "while True:\n",
    "    user_input= input(\"Type 'q' to quit:\")\n",
    "    if user_input=='q':\n",
    "       print(\"Exited loop\")\n",
    "       break\n",
    "    else:\n",
    "        print(\"you typed:\",user_input)"
   ]
  },
  {
   "cell_type": "code",
   "execution_count": 10,
   "id": "421ba47b-1b12-42ed-9267-bca091f16a8a",
   "metadata": {},
   "outputs": [
    {
     "name": "stdin",
     "output_type": "stream",
     "text": [
      "Type your password bjuhy\n"
     ]
    },
    {
     "name": "stdout",
     "output_type": "stream",
     "text": [
      "wrong password! Try again!2\n"
     ]
    },
    {
     "name": "stdin",
     "output_type": "stream",
     "text": [
      "Type your password gjg\n"
     ]
    },
    {
     "name": "stdout",
     "output_type": "stream",
     "text": [
      "wrong password! Try again!1\n"
     ]
    },
    {
     "name": "stdin",
     "output_type": "stream",
     "text": [
      "Type your password open9090\n"
     ]
    },
    {
     "name": "stdout",
     "output_type": "stream",
     "text": [
      "Access granted\n"
     ]
    }
   ],
   "source": [
    "password=\"open9090\"\n",
    "attempts=3\n",
    "\n",
    "while attempts >0:\n",
    "    user_input= input(\"Type your password\")\n",
    "    if user_input==password:\n",
    "       print(\"Access granted\")\n",
    "       break\n",
    "    else:\n",
    "        attempts-=1\n",
    "        print(f\"wrong password! Try again!\",{attempts})"
   ]
  },
  {
   "cell_type": "code",
   "execution_count": 13,
   "id": "d1301603-be1c-4e68-ad2f-f16f28eea030",
   "metadata": {},
   "outputs": [
    {
     "name": "stdout",
     "output_type": "stream",
     "text": [
      "7\n",
      "14\n",
      "21\n",
      "28\n",
      "35\n",
      "42\n",
      "49\n",
      "56\n",
      "63\n",
      "70\n",
      "77\n",
      "84\n",
      "91\n",
      "98\n"
     ]
    }
   ],
   "source": [
    "i = 1\n",
    "while i <= 100:\n",
    "    if i % 7 == 0:\n",
    "        print(i)\n",
    "    i += 1\n"
   ]
  },
  {
   "cell_type": "code",
   "execution_count": null,
   "id": "b5e35afe-64c2-483f-9f0e-56b3281cc4f6",
   "metadata": {},
   "outputs": [],
   "source": []
  }
 ],
 "metadata": {
  "kernelspec": {
   "display_name": "anaconda-2024.02-py310",
   "language": "python",
   "name": "conda-env-anaconda-2024.02-py310-py"
  },
  "language_info": {
   "codemirror_mode": {
    "name": "ipython",
    "version": 3
   },
   "file_extension": ".py",
   "mimetype": "text/x-python",
   "name": "python",
   "nbconvert_exporter": "python",
   "pygments_lexer": "ipython3",
   "version": "3.10.14"
  }
 },
 "nbformat": 4,
 "nbformat_minor": 5
}
