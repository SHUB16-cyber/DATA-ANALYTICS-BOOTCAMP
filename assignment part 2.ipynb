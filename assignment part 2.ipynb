{
 "cells": [
  {
   "cell_type": "code",
   "execution_count": 1,
   "id": "5319f100-bb6d-432c-bee1-23c55fcfecf3",
   "metadata": {},
   "outputs": [
    {
     "name": "stdin",
     "output_type": "stream",
     "text": [
      "Enter number 1:  4\n",
      "Enter number 2:  5\n",
      "Enter number 3:  5\n",
      "Enter number 4:  5\n",
      "Enter number 5:  6\n",
      "Enter number 6:  4\n",
      "Enter number 7:  6\n",
      "Enter number 8:  7\n",
      "Enter number 9:  0\n",
      "Enter number 10:  3\n"
     ]
    },
    {
     "name": "stdout",
     "output_type": "stream",
     "text": [
      "Second largest number: 6\n"
     ]
    }
   ],
   "source": [
    "\n",
    "numbers = []\n",
    "for i in range(10):\n",
    "    num = int(input(f\"Enter number {i + 1}: \"))\n",
    "    numbers.append(num)\n",
    "numbers.sort(reverse=True)\n",
    "unique_numbers = list(set(numbers))\n",
    "unique_numbers.sort(reverse=True)\n",
    "if len(unique_numbers) >= 2:\n",
    "    print(\"Second largest number:\", unique_numbers[1])\n",
    "else:\n",
    "    print(\"Not enough unique numbers to determine second largest.\")\n"
   ]
  },
  {
   "cell_type": "code",
   "execution_count": 2,
   "id": "fe20713c-707c-4563-93ec-d76fc6483470",
   "metadata": {},
   "outputs": [
    {
     "name": "stdout",
     "output_type": "stream",
     "text": [
      "Updated list without even numbers: [15, 33, 55, 77]\n"
     ]
    }
   ],
   "source": [
    "numbers = [10, 15, 22, 33, 42, 55, 64, 77]\n",
    "updated_list = [num for num in numbers if num % 2 != 0]\n",
    "print(\"Updated list without even numbers:\", updated_list)\n"
   ]
  },
  {
   "cell_type": "code",
   "execution_count": 3,
   "id": "178ad8f5-d61b-4862-8c31-271da4ab2324",
   "metadata": {},
   "outputs": [
    {
     "name": "stdin",
     "output_type": "stream",
     "text": [
      "Enter a name to remove:  David\n"
     ]
    },
    {
     "name": "stdout",
     "output_type": "stream",
     "text": [
      "Updated list: ['Alice', 'Bob', 'Charlie', 'Eva']\n"
     ]
    }
   ],
   "source": [
    "students = [\"Alice\", \"Bob\", \"Charlie\", \"David\", \"Eva\"]\n",
    "name = input(\"Enter a name to remove: \")\n",
    "if name in students:\n",
    "    students.remove(name)\n",
    "print(\"Updated list:\", students)"
   ]
  },
  {
   "cell_type": "code",
   "execution_count": 5,
   "id": "c719a6cd-9b65-4016-9951-baf94c355889",
   "metadata": {},
   "outputs": [
    {
     "name": "stdin",
     "output_type": "stream",
     "text": [
      "Enter a number:  40\n"
     ]
    },
    {
     "name": "stdout",
     "output_type": "stream",
     "text": [
      "Index: 3\n",
      "Updated list: [10, 20, 30, 50]\n"
     ]
    }
   ],
   "source": [
    "numbers = [10, 20, 30, 40, 50]\n",
    "num = int(input(\"Enter a number: \"))\n",
    "if num in numbers:\n",
    "    print(\"Index:\", numbers.index(num))\n",
    "    numbers.remove(num)\n",
    "print(\"Updated list:\", numbers)"
   ]
  },
  {
   "cell_type": "code",
   "execution_count": 6,
   "id": "4dff8636-0ecd-43f3-b46f-26ae8ec00f9b",
   "metadata": {},
   "outputs": [
    {
     "name": "stdout",
     "output_type": "stream",
     "text": [
      "Alphabetically sorted list: ['apple', 'banana', 'cherry', 'date', 'fig']\n"
     ]
    }
   ],
   "source": [
    "words = [\"banana\", \"apple\", \"cherry\", \"date\", \"fig\"]\n",
    "words.sort()\n",
    "print(\"Alphabetically sorted list:\", words)\n",
    "\n"
   ]
  },
  {
   "cell_type": "code",
   "execution_count": 7,
   "id": "9773142a-f9c3-40b8-9696-3c4791f169f2",
   "metadata": {},
   "outputs": [
    {
     "name": "stdout",
     "output_type": "stream",
     "text": [
      "Occurrences of 'python': 3\n"
     ]
    }
   ],
   "source": [
    "word_list = [\"python\", \"java\", \"python\", \"c++\", \"python\", \"ruby\"]\n",
    "count = word_list.count(\"python\")\n",
    "print(\"Occurrences of 'python':\", count)\n"
   ]
  },
  {
   "cell_type": "code",
   "execution_count": 8,
   "id": "8c6933f0-ec4e-464b-a228-1a09c0fb3594",
   "metadata": {},
   "outputs": [
    {
     "name": "stdout",
     "output_type": "stream",
     "text": [
      "Original list: [1, 2, 3]\n",
      "Copied and modified list: [1, 2, 3, 4]\n"
     ]
    }
   ],
   "source": [
    "original = [1, 2, 3]\n",
    "copied = original.copy()\n",
    "copied.append(4)\n",
    "print(\"Original list:\", original)\n",
    "print(\"Copied and modified list:\", copied)"
   ]
  },
  {
   "cell_type": "code",
   "execution_count": 9,
   "id": "48cfac03-6ad7-4534-9402-870cf8cdb417",
   "metadata": {},
   "outputs": [
    {
     "name": "stdout",
     "output_type": "stream",
     "text": [
      "List after inserting at middle: [1, 2, 3, 99, 4, 5, 6, 7]\n"
     ]
    }
   ],
   "source": [
    "nums = [1, 2, 3, 4, 5, 6, 7]\n",
    "middle_index = len(nums) // 2\n",
    "nums.insert(middle_index, 99)\n",
    "print(\"List after inserting at middle:\", nums)"
   ]
  },
  {
   "cell_type": "code",
   "execution_count": 10,
   "id": "f712bc36-b29f-4d0c-bd55-551303fddfec",
   "metadata": {},
   "outputs": [
    {
     "name": "stdout",
     "output_type": "stream",
     "text": [
      "Popped: 40\n",
      "Popped: 30\n",
      "Popped: 20\n",
      "Popped: 10\n"
     ]
    }
   ],
   "source": [
    "items = [10, 20, 30, 40]\n",
    "while items:\n",
    "    popped = items.pop()\n",
    "    print(\"Popped:\", popped)"
   ]
  },
  {
   "cell_type": "code",
   "execution_count": 11,
   "id": "8318e8cd-efdd-4b1b-b295-ec14a6652dfd",
   "metadata": {},
   "outputs": [
    {
     "name": "stdout",
     "output_type": "stream",
     "text": [
      "Unique elements: [1, 3, 5, 7]\n"
     ]
    }
   ],
   "source": [
    "numbers = [1, 2, 2, 3, 4, 4, 5, 6, 6, 7]\n",
    "unique_elements = []\n",
    "for num in numbers:\n",
    "    if numbers.count(num) == 1:\n",
    "        unique_elements.append(num)\n",
    "print(\"Unique elements:\", unique_elements)\n"
   ]
  },
  {
   "cell_type": "code",
   "execution_count": null,
   "id": "5f35675b-ed12-4ba7-b199-195535123bf6",
   "metadata": {},
   "outputs": [],
   "source": []
  },
  {
   "cell_type": "code",
   "execution_count": null,
   "id": "5499a6f1-fa31-4005-9888-952c56667a06",
   "metadata": {},
   "outputs": [],
   "source": []
  }
 ],
 "metadata": {
  "kernelspec": {
   "display_name": "anaconda-2024.02-py310",
   "language": "python",
   "name": "conda-env-anaconda-2024.02-py310-py"
  },
  "language_info": {
   "codemirror_mode": {
    "name": "ipython",
    "version": 3
   },
   "file_extension": ".py",
   "mimetype": "text/x-python",
   "name": "python",
   "nbconvert_exporter": "python",
   "pygments_lexer": "ipython3",
   "version": "3.10.14"
  }
 },
 "nbformat": 4,
 "nbformat_minor": 5
}
