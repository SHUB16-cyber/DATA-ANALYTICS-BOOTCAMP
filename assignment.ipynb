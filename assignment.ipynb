{
 "cells": [
  {
   "cell_type": "code",
   "execution_count": 11,
   "id": "4c769bce-8e90-4c93-8333-edffc35e3e2b",
   "metadata": {},
   "outputs": [
    {
     "name": "stdin",
     "output_type": "stream",
     "text": [
      "Enter number 1:  4\n",
      "Enter number 2:  5\n",
      "Enter number 3:  5\n",
      "Enter number 4:  6\n",
      "Enter number 5:  2\n"
     ]
    },
    {
     "name": "stdout",
     "output_type": "stream",
     "text": [
      "Final list: [4, 5, 5, 6, 2]\n"
     ]
    }
   ],
   "source": [
    "numbers=[]\n",
    "\n",
    "for i in range(5):\n",
    "    num = int(input(f\"Enter number {i+1}: \"))\n",
    "    numbers.append(num)\n",
    "\n",
    "\n",
    "print(\"Final list:\", numbers)"
   ]
  },
  {
   "cell_type": "code",
   "execution_count": 1,
   "id": "ac022de6-77eb-4fdc-b44a-3287bd3d1675",
   "metadata": {},
   "outputs": [
    {
     "name": "stdout",
     "output_type": "stream",
     "text": [
      "Updated list: [1, 2, 3, 4, 5, 6]\n"
     ]
    }
   ],
   "source": [
    "\n",
    "list1 = [1, 2, 3]\n",
    "list2 = [4, 5, 6]\n",
    "\n",
    "\n",
    "list1.extend(list2)\n",
    "\n",
    "\n",
    "print(\"Updated list:\", list1)\n"
   ]
  },
  {
   "cell_type": "code",
   "execution_count": 2,
   "id": "ada085ee-2adc-4635-9e3f-864ae95e5c48",
   "metadata": {},
   "outputs": [
    {
     "name": "stdout",
     "output_type": "stream",
     "text": [
      "Updated list: [10, 20, 25, 30, 40]\n"
     ]
    }
   ],
   "source": [
    "\n",
    "l = [10, 20, 30, 40]\n",
    "\n",
    "l.insert(2, 25)\n",
    "print(\"Updated list:\", l)\n"
   ]
  },
  {
   "cell_type": "code",
   "execution_count": 9,
   "id": "0e820180-18fa-4c2a-944e-82b90c1e1467",
   "metadata": {},
   "outputs": [
    {
     "name": "stdout",
     "output_type": "stream",
     "text": [
      "After removing first 20: [10, 30, 20, 40]\n"
     ]
    }
   ],
   "source": [
    "l1 = [10, 20, 30, 20, 40]\n",
    "l1.remove(20)\n",
    "print(\"After removing first 20:\", l1)"
   ]
  },
  {
   "cell_type": "code",
   "execution_count": 10,
   "id": "21dd9c5a-4663-4110-acc8-0c124f0ca1e5",
   "metadata": {},
   "outputs": [
    {
     "name": "stdout",
     "output_type": "stream",
     "text": [
      "Popped item: 5\n",
      "Updated list: [1, 2, 3, 4]\n"
     ]
    }
   ],
   "source": [
    "l2 = [1, 2, 3, 4, 5]\n",
    "popped_item = l2.pop()\n",
    "print(\"Popped item:\", popped_item)\n",
    "print(\"Updated list:\", l2)"
   ]
  },
  {
   "cell_type": "code",
   "execution_count": 7,
   "id": "5b6e3dcd-195e-4ddd-8fbd-aef5b8eb49af",
   "metadata": {},
   "outputs": [
    {
     "name": "stdout",
     "output_type": "stream",
     "text": [
      "Index of 15: 2\n"
     ]
    }
   ],
   "source": [
    "l3 = [5, 10, 15, 20, 25]\n",
    "index_15 = l3.index(15)\n",
    "print(\"Index of 15:\", index_15)"
   ]
  },
  {
   "cell_type": "code",
   "execution_count": 6,
   "id": "30e1921d-31b3-4121-b8c6-a8aafb892f88",
   "metadata": {},
   "outputs": [
    {
     "name": "stdout",
     "output_type": "stream",
     "text": [
      "Number of 2s: 4\n"
     ]
    }
   ],
   "source": [
    "l4= [1, 2, 2, 3, 2, 4, 2]\n",
    "count_2 = l4.count(2)\n",
    "print(\"Number of 2s:\", count_2)"
   ]
  },
  {
   "cell_type": "code",
   "execution_count": 5,
   "id": "f68cbda0-372a-4ff0-93a5-27cd2a445b02",
   "metadata": {},
   "outputs": [
    {
     "name": "stdout",
     "output_type": "stream",
     "text": [
      "Ascending order: [3, 5, 7, 10]\n",
      "Descending order: [10, 7, 5, 3]\n"
     ]
    }
   ],
   "source": [
    "l5 = [10, 5, 7, 3]\n",
    "asc_sorted = sorted(l5)\n",
    "desc_sorted = sorted(l5, reverse=True)\n",
    "print(\"Ascending order:\", asc_sorted)\n",
    "print(\"Descending order:\", desc_sorted)"
   ]
  },
  {
   "cell_type": "code",
   "execution_count": 4,
   "id": "8e37891c-51b5-47b6-bb01-4cce935cfbd0",
   "metadata": {},
   "outputs": [
    {
     "name": "stdout",
     "output_type": "stream",
     "text": [
      "Reversed list: [5, 4, 3, 2, 1]\n"
     ]
    }
   ],
   "source": [
    "l6 = [1, 2, 3, 4, 5]\n",
    "l6.reverse()\n",
    "print(\"Reversed list:\", l6)"
   ]
  },
  {
   "cell_type": "code",
   "execution_count": 3,
   "id": "448ede52-0f58-46c4-8404-902ad38c7f48",
   "metadata": {},
   "outputs": [
    {
     "name": "stdout",
     "output_type": "stream",
     "text": [
      "Original list: [1, 2, 3]\n",
      "Modified copy: [1, 2, 3, 4]\n"
     ]
    }
   ],
   "source": [
    "original = [1, 2, 3]\n",
    "copy_list = original.copy()\n",
    "copy_list.append(4)\n",
    "print(\"Original list:\", original)\n",
    "print(\"Modified copy:\", copy_list)"
   ]
  },
  {
   "cell_type": "code",
   "execution_count": null,
   "id": "cf89b292-611e-4e4d-8bf3-e026b4c14682",
   "metadata": {},
   "outputs": [],
   "source": []
  }
 ],
 "metadata": {
  "kernelspec": {
   "display_name": "anaconda-2024.02-py310",
   "language": "python",
   "name": "conda-env-anaconda-2024.02-py310-py"
  },
  "language_info": {
   "codemirror_mode": {
    "name": "ipython",
    "version": 3
   },
   "file_extension": ".py",
   "mimetype": "text/x-python",
   "name": "python",
   "nbconvert_exporter": "python",
   "pygments_lexer": "ipython3",
   "version": "3.10.14"
  }
 },
 "nbformat": 4,
 "nbformat_minor": 5
}
